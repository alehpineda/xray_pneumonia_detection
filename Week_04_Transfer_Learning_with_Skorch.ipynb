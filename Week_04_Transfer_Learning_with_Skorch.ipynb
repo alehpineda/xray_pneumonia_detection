{
  "nbformat": 4,
  "nbformat_minor": 0,
  "metadata": {
    "colab": {
      "name": "Week 04 - Transfer Learning with Skorch.ipynb",
      "provenance": [],
      "include_colab_link": true
    },
    "kernelspec": {
      "name": "python3",
      "display_name": "Python 3"
    },
    "accelerator": "GPU"
  },
  "cells": [
    {
      "cell_type": "markdown",
      "metadata": {
        "id": "view-in-github",
        "colab_type": "text"
      },
      "source": [
        "<a href=\"https://colab.research.google.com/github/alehpineda/xray_pneumonia_detection/blob/master/Week_04_Transfer_Learning_with_Skorch.ipynb\" target=\"_parent\"><img src=\"https://colab.research.google.com/assets/colab-badge.svg\" alt=\"Open In Colab\"/></a>"
      ]
    },
    {
      "cell_type": "markdown",
      "metadata": {
        "id": "gDrdVTNdlAse",
        "colab_type": "text"
      },
      "source": [
        "# Trasnfer Learning with Skorch\n",
        "\n",
        "Skorch makes posible to use PyTorch with sklearn\n",
        "\n",
        "[Skorch documentation](https://skorch.readthedocs.io/en/stable/)\n",
        "\n",
        "[Skorch - Transferlearning tutorial](https://github.com/skorch-dev/skorch/blob/master/notebooks/Transfer_Learning.ipynb)\n",
        "\n",
        "## Goals:\n",
        "\n",
        "- Retrain the 'inception v3' image classifier on the pneumonia dataset using __Skorch__. \n",
        "\n",
        "- Create a jupyter notebook of your script and be sure to show the training process as well as 2 examples of it making predictions on images from the testing dataset. "
      ]
    },
    {
      "cell_type": "code",
      "metadata": {
        "id": "wnlabdn1lrc6",
        "colab_type": "code",
        "outputId": "6a44622c-3825-4430-a179-0e456647b2d8",
        "colab": {
          "base_uri": "https://localhost:8080/",
          "height": 460
        }
      },
      "source": [
        "# Install torchvision and skorch\n",
        "! [ ! -z \"$COLAB_GPU\" ] && pip install torch torchvision pillow==4.1.1 skorch\n"
      ],
      "execution_count": 1,
      "outputs": [
        {
          "output_type": "stream",
          "text": [
            "Requirement already satisfied: torch in /usr/local/lib/python3.6/dist-packages (1.1.0)\n",
            "Requirement already satisfied: torchvision in /usr/local/lib/python3.6/dist-packages (0.3.0)\n",
            "Collecting pillow==4.1.1\n",
            "\u001b[?25l  Downloading https://files.pythonhosted.org/packages/36/e5/88b3d60924a3f8476fa74ec086f5fbaba56dd6cee0d82845f883b6b6dd18/Pillow-4.1.1-cp36-cp36m-manylinux1_x86_64.whl (5.7MB)\n",
            "\u001b[K     |████████████████████████████████| 5.7MB 33.4MB/s \n",
            "\u001b[?25hCollecting skorch\n",
            "\u001b[?25l  Downloading https://files.pythonhosted.org/packages/c7/df/1e0be91bf4c91fce5f99cc4edd89d3dfc16930d3fc77588493558036a8d2/skorch-0.6.0-py3-none-any.whl (101kB)\n",
            "\u001b[K     |████████████████████████████████| 102kB 39.7MB/s \n",
            "\u001b[?25hRequirement already satisfied: numpy in /usr/local/lib/python3.6/dist-packages (from torch) (1.16.5)\n",
            "Requirement already satisfied: six in /usr/local/lib/python3.6/dist-packages (from torchvision) (1.12.0)\n",
            "Requirement already satisfied: olefile in /usr/local/lib/python3.6/dist-packages (from pillow==4.1.1) (0.46)\n",
            "Requirement already satisfied: tabulate>=0.7.7 in /usr/local/lib/python3.6/dist-packages (from skorch) (0.8.3)\n",
            "Requirement already satisfied: tqdm>=4.14.0 in /usr/local/lib/python3.6/dist-packages (from skorch) (4.28.1)\n",
            "Requirement already satisfied: scikit-learn>=0.19.1 in /usr/local/lib/python3.6/dist-packages (from skorch) (0.21.3)\n",
            "Requirement already satisfied: scipy>=1.1.0 in /usr/local/lib/python3.6/dist-packages (from skorch) (1.3.1)\n",
            "Requirement already satisfied: joblib>=0.11 in /usr/local/lib/python3.6/dist-packages (from scikit-learn>=0.19.1->skorch) (0.13.2)\n",
            "\u001b[31mERROR: scikit-image 0.15.0 has requirement pillow>=4.3.0, but you'll have pillow 4.1.1 which is incompatible.\u001b[0m\n",
            "\u001b[31mERROR: albumentations 0.1.12 has requirement imgaug<0.2.7,>=0.2.5, but you'll have imgaug 0.2.9 which is incompatible.\u001b[0m\n",
            "Installing collected packages: pillow, skorch\n",
            "  Found existing installation: Pillow 4.3.0\n",
            "    Uninstalling Pillow-4.3.0:\n",
            "      Successfully uninstalled Pillow-4.3.0\n",
            "Successfully installed pillow-4.1.1 skorch-0.6.0\n"
          ],
          "name": "stdout"
        }
      ]
    },
    {
      "cell_type": "code",
      "metadata": {
        "id": "4HbmUwk4l3u4",
        "colab_type": "code",
        "colab": {}
      },
      "source": [
        "# Install all the libreries\n",
        "import os\n",
        "from urllib import request\n",
        "from zipfile import ZipFile\n",
        "import gc, os, sys, shutil\n",
        "import json\n",
        "\n",
        "import torch\n",
        "import torch.nn as nn\n",
        "import torch.optim as optim\n",
        "import numpy as np\n",
        "import pandas as pd\n",
        "import matplotlib.pyplot as plt\n",
        "import matplotlib.image as mpimg\n",
        "from torchvision import datasets, models, transforms\n",
        "\n",
        "from skorch import NeuralNetClassifier\n",
        "from skorch.helper import predefined_split\n",
        "\n",
        "torch.manual_seed(360);\n"
      ],
      "execution_count": 0,
      "outputs": []
    },
    {
      "cell_type": "code",
      "metadata": {
        "id": "QGYBM9HamF8v",
        "colab_type": "code",
        "outputId": "92479f71-726d-435a-a237-cce26baee58b",
        "colab": {
          "resources": {
            "http://localhost:8080/nbextensions/google.colab/files.js": {
              "data": "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",
              "ok": true,
              "headers": [
                [
                  "content-type",
                  "application/javascript"
                ]
              ],
              "status": 200,
              "status_text": ""
            }
          },
          "base_uri": "https://localhost:8080/",
          "height": 75
        }
      },
      "source": [
        "# Load your kaggle key json\n",
        "from google.colab import files\n",
        "uploaded = files.upload()\n"
      ],
      "execution_count": 3,
      "outputs": [
        {
          "output_type": "display_data",
          "data": {
            "text/html": [
              "\n",
              "     <input type=\"file\" id=\"files-30f3e8fa-6a8d-410d-8b06-520db0a757f3\" name=\"files[]\" multiple disabled />\n",
              "     <output id=\"result-30f3e8fa-6a8d-410d-8b06-520db0a757f3\">\n",
              "      Upload widget is only available when the cell has been executed in the\n",
              "      current browser session. Please rerun this cell to enable.\n",
              "      </output>\n",
              "      <script src=\"/nbextensions/google.colab/files.js\"></script> "
            ],
            "text/plain": [
              "<IPython.core.display.HTML object>"
            ]
          },
          "metadata": {
            "tags": []
          }
        },
        {
          "output_type": "stream",
          "text": [
            "Saving kaggle.json to kaggle.json\n"
          ],
          "name": "stdout"
        }
      ]
    },
    {
      "cell_type": "code",
      "metadata": {
        "id": "hPx1i6ihmdZ_",
        "colab_type": "code",
        "colab": {}
      },
      "source": [
        "# Read the json\n",
        "file_name = 'kaggle.json'\n",
        "with open(file_name, 'r') as f:\n",
        "    kaggle = json.load(f)\n"
      ],
      "execution_count": 0,
      "outputs": []
    },
    {
      "cell_type": "code",
      "metadata": {
        "id": "JmriBV4KmjSV",
        "colab_type": "code",
        "colab": {}
      },
      "source": [
        "# Load your id from the kaggle.json\n",
        "os.environ['KAGGLE_USERNAME'] = kaggle['username']\n",
        "os.environ['KAGGLE_KEY'] = kaggle['key']\n"
      ],
      "execution_count": 0,
      "outputs": []
    },
    {
      "cell_type": "code",
      "metadata": {
        "id": "6Ttdd0mTmlqu",
        "colab_type": "code",
        "colab": {}
      },
      "source": [
        "# Delete folders if exist\n",
        "def delete_folder(folder_path, folder_name):\n",
        "\n",
        "  dirpath = os.path.join(folder_path, folder_name)\n",
        "  if os.path.exists(dirpath) and os.path.isdir(dirpath):\n",
        "      shutil.rmtree(dirpath)\n",
        "\n",
        "delete_folder('','__MACOSX')\n",
        "delete_folder('','chest_xray')\n",
        "\n",
        "# Delete file if exist\n",
        "try:\n",
        "    os.remove('chest_xray.zip')\n",
        "except OSError:\n",
        "    pass\n"
      ],
      "execution_count": 0,
      "outputs": []
    },
    {
      "cell_type": "code",
      "metadata": {
        "id": "0nh_xFKamoln",
        "colab_type": "code",
        "outputId": "cc2644fe-309e-479f-eb03-3369eecf8da1",
        "colab": {
          "base_uri": "https://localhost:8080/",
          "height": 97
        }
      },
      "source": [
        "# Download the dataset\n",
        "!kaggle datasets download -d paultimothymooney/chest-xray-pneumonia\n"
      ],
      "execution_count": 7,
      "outputs": [
        {
          "output_type": "stream",
          "text": [
            "Downloading chest-xray-pneumonia.zip to /content\n",
            "100% 1.15G/1.15G [00:19<00:00, 56.6MB/s]\n",
            "100% 1.15G/1.15G [00:19<00:00, 63.0MB/s]\n"
          ],
          "name": "stdout"
        }
      ]
    },
    {
      "cell_type": "code",
      "metadata": {
        "id": "h-l5XRZ8msWE",
        "colab_type": "code",
        "colab": {}
      },
      "source": [
        "# Unzip all the files\n",
        "!unzip -q chest-xray-pneumonia.zip\n",
        "!unzip -q chest_xray.zip\n"
      ],
      "execution_count": 0,
      "outputs": []
    },
    {
      "cell_type": "code",
      "metadata": {
        "id": "xlIP9goEnAM0",
        "colab_type": "code",
        "outputId": "8287207b-3bd8-4986-acdc-bf00edfdcac6",
        "colab": {
          "base_uri": "https://localhost:8080/",
          "height": 51
        }
      },
      "source": [
        "# auxiliary functions to move the pictures to new classes\n",
        "# Rearrange the pneumonia pictures to create another 2 classes\n",
        "# (PNEUMONIA_BACTERIA, PNEUMONIA_VIRUS)\n",
        "\n",
        "# Function to create dir\n",
        "def create(dirname, destpath):\n",
        "    full_path = os.path.join(destpath, dirname)\n",
        "    # If the path is a dir return the path as a string\n",
        "    if os.path.isdir(full_path):\n",
        "      #print(dirname + ' dir already exist')\n",
        "      return full_path\n",
        "    # Else creathe a dir and return the path as a string\n",
        "    else:\n",
        "      os.mkdir(full_path)\n",
        "      #print(dirname + ' dir created')\n",
        "      return full_path\n",
        "\n",
        "def create_dir_mv_files(srcpath, destpath):\n",
        "  # Check if srcpath exist\n",
        "  if not os.path.isdir(srcpath):\n",
        "    #print(srcpath + ' does not exist')\n",
        "    return 0\n",
        "  # Delete ds_store\n",
        "  try:\n",
        "      os.remove(srcpath+'/.DS_Store')\n",
        "      #print('.DS_Store deleted')\n",
        "  except OSError:\n",
        "      print('.DS_Store already deleted')\n",
        "  \n",
        "  # List origin files\n",
        "  srcfiles = os.listdir(srcpath)\n",
        "  # List destined directories\n",
        "  destdirs = list(set([filename.split('_')[1] for filename in srcfiles]))\n",
        "  # Rename list and uppercase the name\n",
        "  destdirs = ['PNEUMONIA_'+x.upper() for x in destdirs]\n",
        "\n",
        "  def move(filename, dirpath):\n",
        "      # Move the file to the destined dir\n",
        "      shutil.move(os.path.join(srcpath, filename), dirpath)\n",
        "\n",
        "  # create destination directories and store their names along with full paths\n",
        "  targets = [(folder, create(folder, destpath)) for folder in destdirs]\n",
        "\n",
        "  for dirname, full_path in targets:\n",
        "      for filename in srcfiles:\n",
        "          if dirname.split('_')[1].lower() == filename.split('_')[1]:\n",
        "              move(filename, full_path)\n",
        "  \n",
        "  os.rmdir(srcpath)\n",
        "  #print('Files moved with success from',srcpath,'to',destpath)\n",
        "\n",
        "# Move the train set\n",
        "srcpath_train = './chest_xray/train/PNEUMONIA'\n",
        "destpath_train = './chest_xray/train/'\n",
        "create_dir_mv_files(srcpath_train, destpath_train)\n",
        "\n",
        "# Move the test set\n",
        "srcpath_test = './chest_xray/test/PNEUMONIA'\n",
        "destpath_test = './chest_xray/test/'\n",
        "create_dir_mv_files(srcpath_test, destpath_test)\n",
        "\n",
        "# Move the validation set\n",
        "srcpath_val = './chest_xray/val/PNEUMONIA'\n",
        "destpath_val = './chest_xray/val/'\n",
        "create_dir_mv_files(srcpath_val, destpath_val)\n",
        "\n",
        "# So that the Validation set has also 3 classes\n",
        "create('PNEUMONIA_VIRUS', destpath_val)\n"
      ],
      "execution_count": 9,
      "outputs": [
        {
          "output_type": "stream",
          "text": [
            ".DS_Store already deleted\n"
          ],
          "name": "stdout"
        },
        {
          "output_type": "execute_result",
          "data": {
            "text/plain": [
              "'./chest_xray/val/PNEUMONIA_VIRUS'"
            ]
          },
          "metadata": {
            "tags": []
          },
          "execution_count": 9
        }
      ]
    },
    {
      "cell_type": "code",
      "metadata": {
        "id": "Q83FBhTnnYH6",
        "colab_type": "code",
        "colab": {}
      },
      "source": [
        "# Save the dir routes\n",
        "train_dir = './chest_xray/train'\n",
        "test_dir = './chest_xray/test'\n",
        "val_dir = './chest_xray/val'"
      ],
      "execution_count": 0,
      "outputs": []
    },
    {
      "cell_type": "code",
      "metadata": {
        "id": "TIj4mXjwpNex",
        "colab_type": "code",
        "colab": {}
      },
      "source": [
        "# Create the training and validation datasets\n",
        "data_dir = './chest_xray'\n",
        "# Train\n",
        "train_transforms = transforms.Compose([\n",
        "    transforms.RandomResizedCrop(299),\n",
        "    transforms.RandomHorizontalFlip(),\n",
        "    transforms.ToTensor(),\n",
        "    transforms.Normalize([0.485, 0.456, 0.406], \n",
        "                         [0.229, 0.224, 0.225])\n",
        "])\n",
        "# Validation\n",
        "val_transforms = transforms.Compose([\n",
        "    transforms.Resize((299,299)),\n",
        "    transforms.CenterCrop(224),\n",
        "    transforms.ToTensor(),\n",
        "    transforms.Normalize([0.485, 0.456, 0.406], \n",
        "                         [0.229, 0.224, 0.225])\n",
        "])\n",
        "\n",
        "train_ds = datasets.ImageFolder(\n",
        "    os.path.join(data_dir, 'train'), train_transforms)\n",
        "val_ds = datasets.ImageFolder(\n",
        "    os.path.join(data_dir, 'test'), val_transforms)\n"
      ],
      "execution_count": 0,
      "outputs": []
    },
    {
      "cell_type": "code",
      "metadata": {
        "id": "FCm5qO67puSD",
        "colab_type": "code",
        "colab": {}
      },
      "source": [
        "#  inception_v3 = models.inception_v3(pretrained=True) inception_v3.aux_logits=False\n",
        "# Load pretrained model\n",
        "class PretrainedModel(nn.Module):\n",
        "    def __init__(self, output_features):\n",
        "        super().__init__()\n",
        "        model = models.inception_v3(pretrained=True)\n",
        "        model.aux_logits = False\n",
        "        num_ftrs = model.fc.in_features\n",
        "        model.fc = nn.Linear(num_ftrs, output_features)\n",
        "        self.model = model\n",
        "        \n",
        "    def forward(self, x):\n",
        "        return self.model(x)\n"
      ],
      "execution_count": 0,
      "outputs": []
    },
    {
      "cell_type": "code",
      "metadata": {
        "id": "7I17twXpqHuG",
        "colab_type": "code",
        "colab": {}
      },
      "source": [
        "# Create a LRScheduler Callback\n",
        "from skorch.callbacks import LRScheduler\n",
        "\n",
        "lrscheduler = LRScheduler(\n",
        "    policy='StepLR', step_size=7, gamma=0.1)\n"
      ],
      "execution_count": 0,
      "outputs": []
    },
    {
      "cell_type": "code",
      "metadata": {
        "id": "Fo8XmxYAqKjK",
        "colab_type": "code",
        "colab": {}
      },
      "source": [
        "# Create a Checkpoint callback\n",
        "from skorch.callbacks import Checkpoint\n",
        "\n",
        "checkpoint = Checkpoint(\n",
        "    f_params='best_model.pt', monitor='valid_acc_best')\n"
      ],
      "execution_count": 0,
      "outputs": []
    },
    {
      "cell_type": "code",
      "metadata": {
        "id": "S4_bHQkdtJlY",
        "colab_type": "code",
        "colab": {}
      },
      "source": [
        "# Create a Freezer to freeze all the layers besides the final layer, named model.fc\n",
        "from skorch.callbacks import Freezer\n",
        "\n",
        "freezer = Freezer(lambda x: not x.startswith('model.fc'))\n"
      ],
      "execution_count": 0,
      "outputs": []
    },
    {
      "cell_type": "code",
      "metadata": {
        "id": "iZqrNNA6tXBT",
        "colab_type": "code",
        "colab": {}
      },
      "source": [
        "# Define the NeutralNetClassifier\n",
        "net = NeuralNetClassifier(\n",
        "    PretrainedModel, \n",
        "    criterion=nn.CrossEntropyLoss,\n",
        "    lr=0.001,\n",
        "    batch_size=64,\n",
        "    max_epochs=10,\n",
        "    module__output_features=3,\n",
        "    optimizer=optim.SGD,\n",
        "    optimizer__momentum=0.9,\n",
        "    iterator_train__shuffle=True,\n",
        "    iterator_train__num_workers=4,\n",
        "    iterator_valid__shuffle=True,\n",
        "    iterator_valid__num_workers=4,\n",
        "    train_split=predefined_split(val_ds),\n",
        "    callbacks=[lrscheduler, checkpoint, freezer],\n",
        "    device='cuda' # comment to train on cpu\n",
        ")\n"
      ],
      "execution_count": 0,
      "outputs": []
    },
    {
      "cell_type": "code",
      "metadata": {
        "id": "2V9dkpIHuENV",
        "colab_type": "code",
        "colab": {
          "base_uri": "https://localhost:8080/",
          "height": 221
        },
        "outputId": "82430d73-641f-47f4-f240-3dcfb02becdd"
      },
      "source": [
        "# Fit the model\n",
        "net.fit(train_ds, y=None);"
      ],
      "execution_count": 80,
      "outputs": [
        {
          "output_type": "stream",
          "text": [
            "  epoch    train_loss    valid_acc    valid_loss    cp      dur\n",
            "-------  ------------  -----------  ------------  ----  -------\n",
            "      1        \u001b[36m0.9808\u001b[0m       \u001b[32m0.4679\u001b[0m        \u001b[35m1.0505\u001b[0m     +  73.9709\n",
            "      2        \u001b[36m0.8426\u001b[0m       \u001b[32m0.5817\u001b[0m        \u001b[35m0.8591\u001b[0m     +  73.7983\n",
            "      3        \u001b[36m0.7864\u001b[0m       \u001b[32m0.6426\u001b[0m        \u001b[35m0.8169\u001b[0m     +  73.5226\n",
            "      4        \u001b[36m0.7697\u001b[0m       0.6362        \u001b[35m0.8040\u001b[0m        73.7180\n",
            "      5        \u001b[36m0.7663\u001b[0m       0.5641        0.9544        73.6613\n",
            "      6        \u001b[36m0.7380\u001b[0m       0.6234        0.8433        74.0137\n",
            "      7        \u001b[36m0.7307\u001b[0m       \u001b[32m0.6603\u001b[0m        \u001b[35m0.7956\u001b[0m     +  73.7278\n",
            "      8        \u001b[36m0.7201\u001b[0m       \u001b[32m0.6651\u001b[0m        0.7958     +  74.5783\n",
            "      9        0.7228       0.6619        \u001b[35m0.7907\u001b[0m        74.6997\n",
            "     10        0.7221       0.6651        \u001b[35m0.7850\u001b[0m        74.2540\n"
          ],
          "name": "stdout"
        }
      ]
    },
    {
      "cell_type": "code",
      "metadata": {
        "id": "m3SN3YyfuGpc",
        "colab_type": "code",
        "colab": {}
      },
      "source": [
        ""
      ],
      "execution_count": 0,
      "outputs": []
    }
  ]
}